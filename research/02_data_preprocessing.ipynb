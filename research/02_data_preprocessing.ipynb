{
 "cells": [
  {
   "cell_type": "code",
   "execution_count": 1,
   "id": "5fea8f92",
   "metadata": {},
   "outputs": [],
   "source": [
    "import os\n",
    "import numpy as np\n",
    "import pandas as pd\n"
   ]
  },
  {
   "cell_type": "code",
   "execution_count": 2,
   "id": "013d4aca",
   "metadata": {},
   "outputs": [
    {
     "data": {
      "text/plain": [
       "'c:\\\\Users\\\\Achraf\\\\Desktop\\\\MASTER\\\\Python Avancé\\\\Mini-Projet\\\\mlops-fakenews-text-classification\\\\research'"
      ]
     },
     "execution_count": 2,
     "metadata": {},
     "output_type": "execute_result"
    }
   ],
   "source": [
    "%pwd\n"
   ]
  },
  {
   "cell_type": "code",
   "execution_count": 3,
   "id": "5cf83c32",
   "metadata": {},
   "outputs": [],
   "source": [
    "os.chdir(\"../\")\n"
   ]
  },
  {
   "cell_type": "code",
   "execution_count": 4,
   "id": "c6ba36cc",
   "metadata": {},
   "outputs": [
    {
     "data": {
      "text/plain": [
       "'c:\\\\Users\\\\Achraf\\\\Desktop\\\\MASTER\\\\Python Avancé\\\\Mini-Projet\\\\mlops-fakenews-text-classification'"
      ]
     },
     "execution_count": 4,
     "metadata": {},
     "output_type": "execute_result"
    }
   ],
   "source": [
    "%pwd\n"
   ]
  },
  {
   "cell_type": "code",
   "execution_count": 5,
   "id": "f46694fa",
   "metadata": {},
   "outputs": [],
   "source": [
    "from dataclasses import dataclass\n",
    "from pathlib import Path\n",
    "\n",
    "\n",
    "@dataclass(frozen=True)\n",
    "class DataPreprocessingConfig:\n",
    "    root_dir: Path\n",
    "    fake_news_path: Path\n",
    "    true_news_path: Path\n",
    "    processed_x_train: Path\n",
    "    processed_y_train: Path\n",
    "    processed_x_test: Path\n",
    "    processed_y_test: Path\n",
    "    tfidf_vectoriser: Path\n",
    "    test_size: float\n",
    "    random_state: int\n",
    "    stratify: bool"
   ]
  },
  {
   "cell_type": "code",
   "execution_count": 6,
   "id": "8afe8078",
   "metadata": {},
   "outputs": [
    {
     "name": "stderr",
     "output_type": "stream",
     "text": [
      "[nltk_data] Downloading package stopwords to\n",
      "[nltk_data]     C:\\Users\\Achraf\\AppData\\Roaming\\nltk_data...\n",
      "[nltk_data]   Package stopwords is already up-to-date!\n",
      "[nltk_data] Downloading package wordnet to\n",
      "[nltk_data]     C:\\Users\\Achraf\\AppData\\Roaming\\nltk_data...\n",
      "[nltk_data]   Package wordnet is already up-to-date!\n"
     ]
    }
   ],
   "source": [
    "from fakeNewsClassifier.constants import *\n",
    "from fakeNewsClassifier.utils.common import read_yaml, create_directories"
   ]
  },
  {
   "cell_type": "code",
   "execution_count": 7,
   "id": "cf5ed80f",
   "metadata": {},
   "outputs": [],
   "source": [
    "class ConfigurationManager:\n",
    "    def __init__(\n",
    "        self,\n",
    "        config_filepath = CONFIG_FILE_PATH,\n",
    "        params_filepath = PARAMS_FILE_PATH):\n",
    "\n",
    "        self.config = read_yaml(config_filepath)\n",
    "        self.params = read_yaml(params_filepath)\n",
    "\n",
    "        create_directories([self.config.artifacts_root])\n",
    "\n",
    "    def get_data_preprocessing_config(self) -> DataPreprocessingConfig:\n",
    "        \"\"\"\n",
    "        Get configuration for data preprocessing\n",
    "        \n",
    "        Returns:\n",
    "            DataPreprocessingConfig: Configuration for data preprocessing\n",
    "        \"\"\"\n",
    "        config = self.config.data_preprocessing\n",
    "        \n",
    "        create_directories([config.root_dir])\n",
    "        \n",
    "        data_preprocessing_config = DataPreprocessingConfig(\n",
    "            root_dir=config.root_dir,\n",
    "            fake_news_path=config.fake_news_path,\n",
    "            true_news_path=config.true_news_path,\n",
    "            processed_x_train=config.processed_x_train,\n",
    "            processed_y_train=config.processed_y_train,\n",
    "            processed_x_test=config.processed_x_test,\n",
    "            processed_y_test=config.processed_y_test,\n",
    "            tfidf_vectoriser=config.tfidf_vectoriser,\n",
    "            test_size=self.params.test_size,\n",
    "            random_state=self.params.random_state,\n",
    "            stratify=self.params.stratify,\n",
    "        )\n",
    "        \n",
    "        return data_preprocessing_config"
   ]
  },
  {
   "cell_type": "code",
   "execution_count": 8,
   "id": "01f6bc1b",
   "metadata": {},
   "outputs": [],
   "source": [
    "import os\n",
    "import urllib.request as request\n",
    "from zipfile import ZipFile\n",
    "from sklearn.linear_model import LogisticRegression\n",
    "import joblib\n",
    "from fakeNewsClassifier.utils.common import *"
   ]
  },
  {
   "cell_type": "code",
   "execution_count": 9,
   "id": "1e5a66ca",
   "metadata": {},
   "outputs": [],
   "source": [
    "import pandas as pd\n",
    "import numpy as np\n",
    "import matplotlib.pyplot as plt\n",
    "import seaborn as sns\n",
    "import re\n",
    "import string\n",
    "\n",
    "from typing import Tuple\n",
    "\n",
    "from sklearn.model_selection import train_test_split\n",
    "from sklearn.feature_extraction.text import TfidfVectorizer\n",
    "from sklearn.linear_model import LogisticRegression\n",
    "from sklearn.metrics import classification_report, confusion_matrix, roc_auc_score, roc_curve\n",
    "\n",
    "from fakeNewsClassifier.utils.common import *\n",
    "import warnings\n",
    "warnings.filterwarnings('ignore')\n",
    "\n"
   ]
  },
  {
   "cell_type": "code",
   "execution_count": 12,
   "id": "ba2e7fee",
   "metadata": {},
   "outputs": [],
   "source": [
    "class DataPreprocessing:\n",
    "    def __init__(self, config: DataPreprocessingConfig):\n",
    "        self.config = config\n",
    "\n",
    "    def preprocess_data(self) -> None:\n",
    "        \"\"\"\n",
    "        Main method to preprocess data\n",
    "        \"\"\"\n",
    "        try:\n",
    "            # Read raw data\n",
    "            logger.info(\"Reading raw data\")\n",
    "            df = self._load_data()\n",
    "            \n",
    "            # Apply preprocessing steps\n",
    "            logger.info(\"Applying preprocessing steps\")\n",
    "            X, y, tfidf = self._apply_preprocessing(df)\n",
    "            \n",
    "            # Split data\n",
    "            logger.info(\"Splitting data into train and test sets\")\n",
    "            X_train, X_test, y_train, y_test = self._split_data(X, y)\n",
    "            \n",
    "            # Save processed data\n",
    "    \n",
    "            save_bin(X_train, Path(self.config.processed_x_train))\n",
    "            save_bin(X_test, Path(self.config.processed_x_test))\n",
    "            save_bin(y_train, Path(self.config.processed_y_train))\n",
    "            save_bin(y_test, Path(self.config.processed_y_test))\n",
    "            save_bin(tfidf, Path(self.config.tfidf_vectoriser))\n",
    "            \n",
    "            logger.info(\"Data preprocessing completed successfully\")\n",
    "            \n",
    "        except Exception as e:\n",
    "            logger.error(f\"Error in data preprocessing: {str(e)}\")\n",
    "            raise e\n",
    "        \n",
    "\n",
    "    def _load_data(self) -> pd.DataFrame:\n",
    "        \"\"\"\n",
    "        Load and combine fake and true news data\n",
    "        \n",
    "        Returns:\n",
    "            pd.DataFrame: Combined raw data with labels\n",
    "        \"\"\"\n",
    "        try:\n",
    "            logger.info(f\"Loading fake news data from {self.config.fake_news_path}\")\n",
    "            fake_df = pd.read_csv(self.config.fake_news_path)\n",
    "            logger.info(f\"Loaded {len(fake_df)} fake news articles\")\n",
    "            \n",
    "            # Add label for fake news (1)\n",
    "            fake_df[\"class\"] = 1\n",
    "            \n",
    "            logger.info(f\"Loading true news data from {self.config.true_news_path}\")\n",
    "            true_df = pd.read_csv(self.config.true_news_path)\n",
    "            logger.info(f\"Loaded {len(true_df)} true news articles\")\n",
    "            \n",
    "            # Add label for true news (0)\n",
    "            true_df[\"class\"] = 0\n",
    "            \n",
    "            # Combine datasets\n",
    "            combined_df = pd.concat([fake_df, true_df], ignore_index=True)\n",
    "            combined_df = pd.concat([fake_df, true_df], axis=0).reset_index(drop=True)\n",
    "            logger.info(f\"Combined dataset with {len(combined_df)} articles\")\n",
    "\n",
    "            # Drop rows with missing text\n",
    "            combined_df = combined_df.dropna(subset=['text'])\n",
    "            logger.info(f\"Delete NaN rows\")\n",
    "            \n",
    "            # Shuffle data\n",
    "            shuffled_df = combined_df.sample(frac=1, random_state=self.config.random_state).reset_index(drop=True)\n",
    "            logger.info(\"Dataset shuffled\")\n",
    "            \n",
    "            return shuffled_df\n",
    "            \n",
    "        except Exception as e:\n",
    "            logger.error(f\"Error loading data: {str(e)}\")\n",
    "            raise \n",
    "\n",
    "\n",
    "        \n",
    "    def _apply_preprocessing(self, df: pd.DataFrame) -> pd.DataFrame:\n",
    "        \"\"\"\n",
    "        Apply preprocessing steps to raw data\n",
    "        \n",
    "        Args:\n",
    "            df (pd.DataFrame): Raw data\n",
    "            \n",
    "        Returns:\n",
    "            pd.DataFrame: X_tfidf , y and vectoriser \n",
    "        \"\"\"\n",
    "        try:\n",
    "            df.loc[df[\"class\"] == 0, \"text\"] = df.loc[df[\"class\"] == 0, \"text\"].str.replace(r\"\\(Reuters\\)\", \"\", regex=True)\n",
    "            \n",
    "            # Fill nulls and combine title and text\n",
    "            df['text'] = df['text'].fillna('')\n",
    "            df['title'] = df['title'].fillna('')\n",
    "            df['content'] = df['title'] + ' ' + df['text']\n",
    "            df['cleaned_text'] = df['content'].apply(clean_text)\n",
    "\n",
    "            tfidf = TfidfVectorizer(max_features=5000)\n",
    "            X = tfidf.fit_transform(df['cleaned_text'])\n",
    "            y = df['class']\n",
    "\n",
    "            # Return processed data\n",
    "            return X, y, tfidf\n",
    "            \n",
    "        except Exception as e:\n",
    "            logger.error(f\"Error in preprocessing: {str(e)}\")\n",
    "            raise e\n",
    "        \n",
    "    \n",
    "    def _split_data(self, X , y: pd.Series) -> Tuple[pd.DataFrame, pd.DataFrame]:\n",
    "        \"\"\"\n",
    "        Split data into train and test sets\n",
    "        \n",
    "        Args:\n",
    "            df (): Processed data\n",
    "            \n",
    "        Returns:\n",
    "            Tuple[pd.DataFrame, pd.DataFrame, pd.DataFrame]: Train, validation and test data\n",
    "        \"\"\"\n",
    "        try:\n",
    "            if self.config.stratify:\n",
    "                X_train, X_test, y_train, y_test = train_test_split(\n",
    "                    X, y,\n",
    "                    test_size=self.config.test_size,\n",
    "                    stratify=y,\n",
    "                    random_state=self.config.random_state\n",
    "                )\n",
    "            else:\n",
    "                X_train, X_test, y_train, y_test = train_test_split(\n",
    "                    X, y,\n",
    "                    test_size=self.config.test_size,\n",
    "                    random_state=self.config.random_state\n",
    "                )\n",
    "            \n",
    "            return X_train, X_test, y_train, y_test\n",
    "            \n",
    "        except Exception as e:\n",
    "            logger.error(f\"Error in splitting data: {str(e)}\")\n",
    "            raise e"
   ]
  },
  {
   "cell_type": "code",
   "execution_count": 13,
   "id": "d2c4e6e2",
   "metadata": {},
   "outputs": [
    {
     "name": "stdout",
     "output_type": "stream",
     "text": [
      "[2025-05-12 21:20:18,727: INFO: common: yaml file: config\\config.yaml loaded successfully]\n",
      "[2025-05-12 21:20:18,758: INFO: common: yaml file: params.yaml loaded successfully]\n",
      "[2025-05-12 21:20:18,767: INFO: common: created directory at: artifacts]\n",
      "[2025-05-12 21:20:18,778: INFO: common: created directory at: artifacts/data_preprocessing]\n",
      "[2025-05-12 21:20:18,783: INFO: 4076787911: Reading raw data]\n",
      "[2025-05-12 21:20:18,787: INFO: 4076787911: Loading fake news data from artifacts/data_ingestion/Fake.csv]\n",
      "[2025-05-12 21:20:20,345: INFO: 4076787911: Loaded 23481 fake news articles]\n",
      "[2025-05-12 21:20:20,386: INFO: 4076787911: Loading true news data from artifacts/data_ingestion/True.csv]\n",
      "[2025-05-12 21:20:21,242: INFO: 4076787911: Loaded 21417 true news articles]\n",
      "[2025-05-12 21:20:21,277: INFO: 4076787911: Combined dataset with 44898 articles]\n",
      "[2025-05-12 21:20:21,322: INFO: 4076787911: Delete NaN rows]\n",
      "[2025-05-12 21:20:21,344: INFO: 4076787911: Dataset shuffled]\n",
      "[2025-05-12 21:20:21,349: INFO: 4076787911: Applying preprocessing steps]\n",
      "[2025-05-12 21:23:51,953: INFO: 4076787911: Splitting data into train and test sets]\n",
      "[2025-05-12 21:23:52,115: INFO: common: File saved at: artifacts\\data_preprocessing\\X_train_tfidf.pkl]\n",
      "[2025-05-12 21:23:52,140: INFO: common: File saved at: artifacts\\data_preprocessing\\X_test_tfidf.pkl]\n",
      "[2025-05-12 21:23:52,150: INFO: common: File saved at: artifacts\\data_preprocessing\\y_train.pkl]\n",
      "[2025-05-12 21:23:52,158: INFO: common: File saved at: artifacts\\data_preprocessing\\y_test.pkl]\n",
      "[2025-05-12 21:23:52,381: INFO: common: File saved at: artifacts\\data_preprocessing\\tfidf_vectoriser.pkl]\n",
      "[2025-05-12 21:23:52,383: INFO: 4076787911: Data preprocessing completed successfully]\n"
     ]
    }
   ],
   "source": [
    "try:\n",
    "    config = ConfigurationManager()\n",
    "    data_preprocessing_config = config.get_data_preprocessing_config()\n",
    "    data_preprocessing = DataPreprocessing(config=data_preprocessing_config)\n",
    "    data_preprocessing.preprocess_data()\n",
    "except Exception as e:\n",
    "    raise e"
   ]
  }
 ],
 "metadata": {
  "kernelspec": {
   "display_name": "news",
   "language": "python",
   "name": "python3"
  },
  "language_info": {
   "codemirror_mode": {
    "name": "ipython",
    "version": 3
   },
   "file_extension": ".py",
   "mimetype": "text/x-python",
   "name": "python",
   "nbconvert_exporter": "python",
   "pygments_lexer": "ipython3",
   "version": "3.13.2"
  }
 },
 "nbformat": 4,
 "nbformat_minor": 5
}
