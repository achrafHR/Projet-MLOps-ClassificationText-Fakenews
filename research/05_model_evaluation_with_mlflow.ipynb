{
 "cells": [
  {
   "cell_type": "code",
   "execution_count": 1,
   "id": "cace8084",
   "metadata": {},
   "outputs": [],
   "source": [
    "import os\n"
   ]
  },
  {
   "cell_type": "code",
   "execution_count": 2,
   "id": "ff9057b1",
   "metadata": {},
   "outputs": [
    {
     "data": {
      "text/plain": [
       "'c:\\\\Users\\\\Achraf\\\\Desktop\\\\MASTER\\\\Python Avancé\\\\Mini-Projet\\\\mlops-fakenews-text-classification\\\\research'"
      ]
     },
     "execution_count": 2,
     "metadata": {},
     "output_type": "execute_result"
    }
   ],
   "source": [
    "%pwd\n"
   ]
  },
  {
   "cell_type": "code",
   "execution_count": 3,
   "id": "f7d455b0",
   "metadata": {},
   "outputs": [],
   "source": [
    "os.chdir(\"../\")\n"
   ]
  },
  {
   "cell_type": "code",
   "execution_count": 4,
   "id": "66e3ab4b",
   "metadata": {},
   "outputs": [
    {
     "data": {
      "text/plain": [
       "'c:\\\\Users\\\\Achraf\\\\Desktop\\\\MASTER\\\\Python Avancé\\\\Mini-Projet\\\\mlops-fakenews-text-classification'"
      ]
     },
     "execution_count": 4,
     "metadata": {},
     "output_type": "execute_result"
    }
   ],
   "source": [
    "%pwd\n"
   ]
  },
  {
   "cell_type": "code",
   "execution_count": 5,
   "id": "33bba521",
   "metadata": {},
   "outputs": [],
   "source": [
    "os.environ[\"MLFLOW_TRACKING_URI\"]=\"https://dagshub.com/achrafHR/mlops-fakenews-text-classification.mlflow\"\n",
    "os.environ[\"MLFLOW_TRACKING_USERNAME\"]=\"achrafHR\"\n",
    "os.environ[\"MLFLOW_TRACKING_PASSWORD\"]=\"1186be9494033fd5bc54deb4eb5754a45febe492\""
   ]
  },
  {
   "cell_type": "code",
   "execution_count": 6,
   "id": "b5f1dc90",
   "metadata": {},
   "outputs": [
    {
     "name": "stderr",
     "output_type": "stream",
     "text": [
      "[nltk_data] Downloading package stopwords to\n",
      "[nltk_data]     C:\\Users\\Achraf\\AppData\\Roaming\\nltk_data...\n",
      "[nltk_data]   Package stopwords is already up-to-date!\n",
      "[nltk_data] Downloading package wordnet to\n",
      "[nltk_data]     C:\\Users\\Achraf\\AppData\\Roaming\\nltk_data...\n",
      "[nltk_data]   Package wordnet is already up-to-date!\n"
     ]
    }
   ],
   "source": [
    "from sklearn.linear_model import LogisticRegression\n",
    "from fakeNewsClassifier.utils.common import load_bin\n",
    "from pathlib import Path"
   ]
  },
  {
   "cell_type": "code",
   "execution_count": 7,
   "id": "f30424fe",
   "metadata": {},
   "outputs": [
    {
     "name": "stdout",
     "output_type": "stream",
     "text": [
      "[2025-05-14 00:22:36,715: INFO: common: binary file loaded from: artifacts\\training\\trained_model.pkl]\n"
     ]
    }
   ],
   "source": [
    "model = load_bin(Path(\"artifacts/training/trained_model.pkl\"))\n"
   ]
  },
  {
   "cell_type": "code",
   "execution_count": 8,
   "id": "07bc4fa0",
   "metadata": {},
   "outputs": [],
   "source": [
    "from dataclasses import dataclass\n",
    "from pathlib import Path\n",
    "\n",
    "@dataclass(frozen=True)\n",
    "class EvaluationConfig:\n",
    "    path_of_model: Path\n",
    "    processed_x_test: Path\n",
    "    processed_y_test: Path\n",
    "    mlflow_uri: str\n",
    "    params: dict\n",
    "    "
   ]
  },
  {
   "cell_type": "code",
   "execution_count": 9,
   "id": "d9623f5b",
   "metadata": {},
   "outputs": [],
   "source": [
    "from fakeNewsClassifier.constants import *\n",
    "from fakeNewsClassifier.utils.common import read_yaml, create_directories, save_json, load_bin\n"
   ]
  },
  {
   "cell_type": "code",
   "execution_count": 14,
   "id": "a5a1c260",
   "metadata": {},
   "outputs": [],
   "source": [
    "class ConfigurationManager:\n",
    "    def __init__(\n",
    "        self, \n",
    "        config_filepath = CONFIG_FILE_PATH,\n",
    "        params_filepath = PARAMS_FILE_PATH):\n",
    "        self.config = read_yaml(config_filepath)\n",
    "        self.params = read_yaml(params_filepath)\n",
    "        create_directories([self.config.artifacts_root])\n",
    "\n",
    "    \n",
    "    def get_evaluation_config(self) -> EvaluationConfig:\n",
    "        eval_config = EvaluationConfig(\n",
    "            path_of_model=Path(\"artifacts/training/trained_model.pkl\"),\n",
    "            processed_x_test=Path(\"artifacts/data_preprocessing/X_test_tfidf.pkl\"),\n",
    "            processed_y_test=Path(\"artifacts/data_preprocessing/y_test.pkl\"),\n",
    "            mlflow_uri=\"https://dagshub.com/achrafHR/mlops-fakenews-text-classification.mlflow\",\n",
    "            params=self.params.get(\"model params\", {}),\n",
    "        )\n",
    "        return eval_config"
   ]
  },
  {
   "cell_type": "code",
   "execution_count": 15,
   "id": "b06a1366",
   "metadata": {},
   "outputs": [],
   "source": [
    "from pathlib import Path\n",
    "import mlflow\n",
    "import mlflow.sklearn\n",
    "from urllib.parse import urlparse\n",
    "from sklearn.metrics import accuracy_score, log_loss"
   ]
  },
  {
   "cell_type": "code",
   "execution_count": null,
   "id": "70545426",
   "metadata": {},
   "outputs": [],
   "source": [
    "class Evaluation:\n",
    "    def __init__(self, config: EvaluationConfig):\n",
    "        self.config = config\n",
    "\n",
    "    \n",
    "    def get_test_data(self):\n",
    "        self.X_test = load_bin(self.config.processed_x_test)\n",
    "        self.y_test = load_bin(self.config.processed_y_test)\n",
    "    \n",
    "    def evaluation(self):\n",
    "        self.model = load_bin(self.config.path_of_model)\n",
    "        # Pour régression logistique\n",
    "        self.y_pred = self.model.predict(self.X_test)\n",
    "        self.y_pred_proba = self.model.predict_proba(self.X_test)\n",
    "        \n",
    "        # Calcul des métriques pour régression logistique\n",
    "        \n",
    "        self.accuracy = accuracy_score(self.y_test, self.y_pred)\n",
    "        self.loss = log_loss(self.y_test, self.y_pred_proba)\n",
    "        self.score = [self.loss, self.accuracy]  \n",
    "        \n",
    "        self.save_score()\n",
    "\n",
    "    def save_score(self):\n",
    "        scores = {\"loss\": self.score[0], \"accuracy\": self.score[1]}\n",
    "        save_json(path=Path(\"scores.json\"), data=scores)\n",
    "\n",
    "    \n",
    "    def log_into_mlflow(self):\n",
    "        mlflow.set_registry_uri(self.config.mlflow_uri)\n",
    "        tracking_url_type_store = urlparse(mlflow.get_tracking_uri()).scheme\n",
    "        \n",
    "        with mlflow.start_run():\n",
    "            mlflow.log_params(self.config.params)\n",
    "            mlflow.log_metrics(\n",
    "                {\"loss\": self.score[0], \"accuracy\": self.score[1]}\n",
    "            )\n",
    "            # Model registry does not work with file store\n",
    "            if tracking_url_type_store != \"file\":\n",
    "\n",
    "                # Register the model\n",
    "                # There are other ways to use the Model Registry, which depends on the use case,\n",
    "                # please refer to the doc for more information:\n",
    "                # https://mlflow.org/docs/latest/model-registry.html#api-workflow\n",
    "                mlflow.sklearn.log_model(self.model, \"model\", registered_model_name=\"LogisticRegression\")\n",
    "            else:\n",
    "                mlflow.sklearn.log_model(self.model, \"model\")"
   ]
  },
  {
   "cell_type": "code",
   "execution_count": 19,
   "id": "6959c353",
   "metadata": {},
   "outputs": [
    {
     "name": "stdout",
     "output_type": "stream",
     "text": [
      "[2025-05-14 00:28:52,583: INFO: common: yaml file: config\\config.yaml loaded successfully]\n",
      "[2025-05-14 00:28:52,588: INFO: common: yaml file: params.yaml loaded successfully]\n",
      "[2025-05-14 00:28:52,590: INFO: common: created directory at: artifacts]\n",
      "[2025-05-14 00:28:52,609: INFO: common: binary file loaded from: artifacts\\data_preprocessing\\X_test_tfidf.pkl]\n",
      "[2025-05-14 00:28:52,618: INFO: common: binary file loaded from: artifacts\\data_preprocessing\\y_test.pkl]\n",
      "[2025-05-14 00:28:52,621: INFO: common: binary file loaded from: artifacts\\training\\trained_model.pkl]\n",
      "[2025-05-14 00:28:52,644: INFO: common: json file saved at: scores.json]\n"
     ]
    },
    {
     "name": "stderr",
     "output_type": "stream",
     "text": [
      "2025/05/14 00:29:15 WARNING mlflow.models.model: Model logged without a signature and input example. Please set `input_example` parameter when logging the model to auto infer the model signature.\n",
      "Successfully registered model 'LogisticRegression'.\n",
      "2025/05/14 00:29:20 INFO mlflow.store.model_registry.abstract_store: Waiting up to 300 seconds for model version to finish creation. Model name: LogisticRegression, version 1\n",
      "Created version '1' of model 'LogisticRegression'.\n"
     ]
    },
    {
     "name": "stdout",
     "output_type": "stream",
     "text": [
      "🏃 View run resilient-bug-690 at: https://dagshub.com/achrafHR/mlops-fakenews-text-classification.mlflow/#/experiments/0/runs/cbcc159d8bcc40d7bbc91f58b7719c4d\n",
      "🧪 View experiment at: https://dagshub.com/achrafHR/mlops-fakenews-text-classification.mlflow/#/experiments/0\n"
     ]
    }
   ],
   "source": [
    "try:\n",
    "    config = ConfigurationManager()\n",
    "    eval_config = config.get_evaluation_config()\n",
    "    evaluation = Evaluation(eval_config)\n",
    "    evaluation.get_test_data()\n",
    "    evaluation.evaluation()\n",
    "    evaluation.log_into_mlflow()\n",
    "\n",
    "except Exception as e:\n",
    "   raise e"
   ]
  }
 ],
 "metadata": {
  "kernelspec": {
   "display_name": "news",
   "language": "python",
   "name": "python3"
  },
  "language_info": {
   "codemirror_mode": {
    "name": "ipython",
    "version": 3
   },
   "file_extension": ".py",
   "mimetype": "text/x-python",
   "name": "python",
   "nbconvert_exporter": "python",
   "pygments_lexer": "ipython3",
   "version": "3.13.2"
  }
 },
 "nbformat": 4,
 "nbformat_minor": 5
}
