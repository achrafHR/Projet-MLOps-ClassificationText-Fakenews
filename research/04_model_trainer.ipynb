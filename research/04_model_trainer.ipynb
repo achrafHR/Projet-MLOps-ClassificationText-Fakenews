{
 "cells": [
  {
   "cell_type": "code",
   "execution_count": 2,
   "id": "6aa08f81",
   "metadata": {},
   "outputs": [],
   "source": [
    "import os"
   ]
  },
  {
   "cell_type": "code",
   "execution_count": 3,
   "id": "ffa6dd9e",
   "metadata": {},
   "outputs": [
    {
     "data": {
      "text/plain": [
       "'c:\\\\Users\\\\Achraf\\\\Desktop\\\\MASTER\\\\Python Avancé\\\\Mini-Projet\\\\mlops-fakenews-text-classification\\\\research'"
      ]
     },
     "execution_count": 3,
     "metadata": {},
     "output_type": "execute_result"
    }
   ],
   "source": [
    "%pwd"
   ]
  },
  {
   "cell_type": "code",
   "execution_count": 4,
   "id": "186d0e7e",
   "metadata": {},
   "outputs": [],
   "source": [
    "os.chdir(\"../\")\n"
   ]
  },
  {
   "cell_type": "code",
   "execution_count": 5,
   "id": "3f7cd66c",
   "metadata": {},
   "outputs": [
    {
     "data": {
      "text/plain": [
       "'c:\\\\Users\\\\Achraf\\\\Desktop\\\\MASTER\\\\Python Avancé\\\\Mini-Projet\\\\mlops-fakenews-text-classification'"
      ]
     },
     "execution_count": 5,
     "metadata": {},
     "output_type": "execute_result"
    }
   ],
   "source": [
    "%pwd\n"
   ]
  },
  {
   "cell_type": "code",
   "execution_count": 6,
   "id": "bb18ddf4",
   "metadata": {},
   "outputs": [],
   "source": [
    "from dataclasses import dataclass\n",
    "from pathlib import Path\n",
    "\n",
    "\n",
    "@dataclass(frozen=True)\n",
    "class TrainingConfig:\n",
    "    root_dir: Path\n",
    "    base_model_path: Path\n",
    "    trained_model_path: Path\n",
    "    processed_x_train: Path\n",
    "    processed_y_train: Path\n",
    "    processed_x_test: Path\n",
    "    processed_y_test: Path\n",
    "    tfidf_vectoriser: Path\n",
    "\n",
    "    "
   ]
  },
  {
   "cell_type": "code",
   "execution_count": 7,
   "id": "effd5637",
   "metadata": {},
   "outputs": [
    {
     "name": "stderr",
     "output_type": "stream",
     "text": [
      "[nltk_data] Downloading package stopwords to\n",
      "[nltk_data]     C:\\Users\\Achraf\\AppData\\Roaming\\nltk_data...\n",
      "[nltk_data]   Package stopwords is already up-to-date!\n",
      "[nltk_data] Downloading package wordnet to\n",
      "[nltk_data]     C:\\Users\\Achraf\\AppData\\Roaming\\nltk_data...\n",
      "[nltk_data]   Package wordnet is already up-to-date!\n"
     ]
    }
   ],
   "source": [
    "from fakeNewsClassifier.constants import *\n",
    "from fakeNewsClassifier.utils.common import read_yaml, create_directories, load_bin\n"
   ]
  },
  {
   "cell_type": "code",
   "execution_count": 8,
   "id": "1d24e312",
   "metadata": {},
   "outputs": [],
   "source": [
    "class ConfigurationManager:\n",
    "    def __init__(\n",
    "        self,\n",
    "        config_filepath = CONFIG_FILE_PATH,\n",
    "        params_filepath = PARAMS_FILE_PATH):\n",
    "\n",
    "        self.config = read_yaml(config_filepath)\n",
    "        self.params = read_yaml(params_filepath)\n",
    "\n",
    "        create_directories([self.config.artifacts_root])\n",
    "\n",
    "        \n",
    "\n",
    "    def get_training_config(self) -> TrainingConfig:\n",
    "        training = self.config.training\n",
    "        prepare_base_model = self.config.prepare_base_model\n",
    "        data_preprocessing = self.config.data_preprocessing\n",
    "        \n",
    "        create_directories([\n",
    "            Path(training.root_dir)\n",
    "        ])\n",
    "\n",
    "        training_config = TrainingConfig(\n",
    "            root_dir=Path(training.root_dir),\n",
    "            base_model_path= Path(prepare_base_model.base_model_path),\n",
    "            trained_model_path=Path(training.trained_model_path),\n",
    "            processed_x_train= Path(data_preprocessing.processed_x_train),\n",
    "            processed_y_train= Path(data_preprocessing.processed_y_train),\n",
    "            processed_x_test= Path(data_preprocessing.processed_x_test),\n",
    "            processed_y_test= Path(data_preprocessing.processed_y_test),\n",
    "            tfidf_vectoriser= Path(data_preprocessing.tfidf_vectoriser)\n",
    "\n",
    "        )\n",
    "\n",
    "        return training_config"
   ]
  },
  {
   "cell_type": "code",
   "execution_count": 9,
   "id": "4bbc4e2b",
   "metadata": {},
   "outputs": [],
   "source": [
    "import os\n",
    "import urllib.request as request\n",
    "from zipfile import ZipFile\n",
    "import time\n",
    "from sklearn.linear_model import LogisticRegression\n",
    "import joblib"
   ]
  },
  {
   "cell_type": "code",
   "execution_count": 12,
   "id": "143325ad",
   "metadata": {},
   "outputs": [],
   "source": [
    "class Training:\n",
    "    def __init__(self, config: TrainingConfig):\n",
    "        self.config = config\n",
    "\n",
    "    \n",
    "    def get_base_model(self):\n",
    "        self.model = load_bin(\n",
    "            self.config.base_model_path\n",
    "        )\n",
    "    \n",
    "    def get_train_data(self):\n",
    "        self.X = load_bin(self.config.processed_x_train)\n",
    "        self.y = load_bin(self.config.processed_y_train)\n",
    "\n",
    "\n",
    "    @staticmethod\n",
    "    def save_model(path: Path, model: LogisticRegression):\n",
    "        joblib.dump(model, path)\n",
    "    \n",
    "    def train(self):\n",
    "\n",
    "        self.model.fit(\n",
    "            self.X,\n",
    "            self.y\n",
    "        )\n",
    "\n",
    "        self.save_model(\n",
    "            path=self.config.trained_model_path,\n",
    "            model=self.model)"
   ]
  },
  {
   "cell_type": "code",
   "execution_count": 13,
   "id": "9abc2362",
   "metadata": {},
   "outputs": [
    {
     "name": "stdout",
     "output_type": "stream",
     "text": [
      "[2025-05-13 01:21:16,515: INFO: common: yaml file: config\\config.yaml loaded successfully]\n",
      "[2025-05-13 01:21:16,519: INFO: common: yaml file: params.yaml loaded successfully]\n",
      "[2025-05-13 01:21:16,520: INFO: common: created directory at: artifacts]\n",
      "[2025-05-13 01:21:16,522: INFO: common: created directory at: artifacts\\training]\n",
      "[2025-05-13 01:21:16,531: INFO: common: binary file loaded from: artifacts\\prepare_base_model\\base_model.pkl]\n",
      "[2025-05-13 01:21:16,577: INFO: common: binary file loaded from: artifacts\\data_preprocessing\\X_train_tfidf.pkl]\n",
      "[2025-05-13 01:21:16,581: INFO: common: binary file loaded from: artifacts\\data_preprocessing\\y_train.pkl]\n"
     ]
    }
   ],
   "source": [
    "try:\n",
    "    config = ConfigurationManager()\n",
    "    training_config = config.get_training_config()\n",
    "    training = Training(config=training_config)\n",
    "    training.get_base_model()\n",
    "    training.get_train_data()\n",
    "    training.train()\n",
    "    \n",
    "except Exception as e:\n",
    "    raise e"
   ]
  }
 ],
 "metadata": {
  "kernelspec": {
   "display_name": "news",
   "language": "python",
   "name": "python3"
  },
  "language_info": {
   "codemirror_mode": {
    "name": "ipython",
    "version": 3
   },
   "file_extension": ".py",
   "mimetype": "text/x-python",
   "name": "python",
   "nbconvert_exporter": "python",
   "pygments_lexer": "ipython3",
   "version": "3.13.2"
  }
 },
 "nbformat": 4,
 "nbformat_minor": 5
}
